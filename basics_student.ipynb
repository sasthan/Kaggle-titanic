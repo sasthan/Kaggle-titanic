{
  "nbformat": 4,
  "nbformat_minor": 0,
  "metadata": {
    "colab": {
      "name": "Copy of basics_student.ipynb",
      "version": "0.3.2",
      "provenance": [],
      "collapsed_sections": [],
      "include_colab_link": true
    },
    "kernelspec": {
      "name": "python3",
      "display_name": "Python 3"
    }
  },
  "cells": [
    {
      "cell_type": "markdown",
      "metadata": {
        "id": "view-in-github",
        "colab_type": "text"
      },
      "source": [
        "<a href=\"https://colab.research.google.com/github/sasthan/Kaggle-titanic/blob/master/basics_student.ipynb\" target=\"_parent\"><img src=\"https://colab.research.google.com/assets/colab-badge.svg\" alt=\"Open In Colab\"/></a>"
      ]
    },
    {
      "metadata": {
        "id": "yMK05xLcGs4_",
        "colab_type": "code",
        "outputId": "6d3bc0de-d51e-4410-c802-207d0d0edb2e",
        "colab": {
          "base_uri": "https://localhost:8080/",
          "height": 34
        }
      },
      "cell_type": "code",
      "source": [
        "import tensorflow as tf\n",
        "import numpy as np\n",
        "import matplotlib.pyplot as plt\n",
        "%matplotlib inline\n",
        "\n",
        "print(tf.__version__)\n"
      ],
      "execution_count": 0,
      "outputs": [
        {
          "output_type": "stream",
          "text": [
            "1.13.1\n"
          ],
          "name": "stdout"
        }
      ]
    },
    {
      "metadata": {
        "id": "X82AiroReiVS",
        "colab_type": "code",
        "colab": {}
      },
      "cell_type": "code",
      "source": [
        "'''\n",
        "exercise: please implement\n",
        "# formula: y=mx+b\n",
        "# variables: m = 2, b = 5\n",
        "\n",
        "hints: \n",
        "1. identify which are variables, placeholders (where data gets fed)\n",
        "2. define them\n",
        "3. put them together: functional approach (functional approach, inside out, remember order of operation)\n",
        "\n",
        "'''\n",
        "\n",
        "\n",
        "# formula: y=mx+b\n",
        "# variables: m = 2, b = 5\n",
        "\n",
        "# tf.add(x,y)\n",
        "\n",
        "\n",
        "m = \n",
        "x =\n",
        "b = \n",
        "\n",
        "\n",
        "\n",
        "y=tf.add((m*x), b)\n",
        "\n",
        "\n",
        "# your code here\n"
      ],
      "execution_count": 0,
      "outputs": []
    },
    {
      "metadata": {
        "id": "cYzDUZxKfH1X",
        "colab_type": "code",
        "colab": {}
      },
      "cell_type": "code",
      "source": [
        "'''\n",
        "exercise 2: deploy and compute your graph\n",
        "\n",
        "hints:\n",
        "\n",
        "1. define a session with tf.Session()\n",
        "2. intialize your variables (and place holders with) by running tf.global_variables_initializer()\n",
        "3. feed in a variable and ask it to calculate a y. using feed_dict {_your_placeholder: value(s)}\n",
        "4. print the results\n",
        "\n",
        "'''\n",
        "\n",
        "# your code here"
      ],
      "execution_count": 0,
      "outputs": []
    },
    {
      "metadata": {
        "id": "twFyByLggIyW",
        "colab_type": "code",
        "colab": {}
      },
      "cell_type": "code",
      "source": [
        "with tf.Session() as sess:\n",
        "  sess.run(tf.global_variables_initializer())\n",
        "  res = sess.run(y, feed_dict={x: ???})\n",
        "  print(res)"
      ],
      "execution_count": 0,
      "outputs": []
    }
  ]
}